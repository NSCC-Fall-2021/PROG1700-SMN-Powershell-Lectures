{
 "cells": [
  {
   "cell_type": "code",
   "execution_count": null,
   "metadata": {
    "dotnet_interactive": {
     "language": "pwsh"
    }
   },
   "outputs": [
    {
     "name": "stdout",
     "output_type": "stream",
     "text": [
      "Hello\r\n"
     ]
    }
   ],
   "source": [
    "# simple function\n",
    "function Write-Hello {\n",
    "    Write-Host \"Hello\"\n",
    "}\n",
    "Write-Hello"
   ]
  },
  {
   "cell_type": "code",
   "execution_count": null,
   "metadata": {
    "dotnet_interactive": {
     "language": "pwsh"
    }
   },
   "outputs": [
    {
     "name": "stdout",
     "output_type": "stream",
     "text": [
      "Hello, Johnny\r\n",
      "Hello, Sally\r\n",
      "Hello, Suzie\r\n"
     ]
    }
   ],
   "source": [
    "# function with one parameter\n",
    "function Write-Hello ($Name) {\n",
    "    $greeting = \"Hello\"\n",
    "    Write-Host \"$greeting, $Name\"\n",
    "}\n",
    "Write-Hello \"Johnny\"\n",
    "Write-Hello \"Sally\"\n",
    "Write-Hello -Name \"Suzie\""
   ]
  },
  {
   "cell_type": "code",
   "execution_count": null,
   "metadata": {
    "dotnet_interactive": {
     "language": "pwsh"
    }
   },
   "outputs": [
    {
     "name": "stdout",
     "output_type": "stream",
     "text": [
      "Hello, Johnny\r\n",
      "Hello, Johnny\r\n",
      "Goodbye, Suzie\r\n"
     ]
    }
   ],
   "source": [
    "# functions with two parameters\n",
    "function Write-Greeting ($Greeting, $Name) {\n",
    "    Write-Host \"$Greeting, $Name\"\n",
    "}\n",
    "Write-Greeting \"Hello\" \"Johnny\"\n",
    "Write-Greeting -Greeting \"Hello\" -Name \"Johnny\"\n",
    "Write-Greeting -Name \"Suzie\" -Greeting \"Goodbye\""
   ]
  },
  {
   "cell_type": "code",
   "execution_count": null,
   "metadata": {
    "dotnet_interactive": {
     "language": "pwsh"
    }
   },
   "outputs": [
    {
     "name": "stdout",
     "output_type": "stream",
     "text": [
      "3\r\n"
     ]
    }
   ],
   "source": [
    "# return values\n",
    "function Get-Sum ($a, $b) {\n",
    "    $c = $a + $b\n",
    "    return $c\n",
    "}\n",
    "Get-Sum 1 2"
   ]
  },
  {
   "cell_type": "code",
   "execution_count": null,
   "metadata": {
    "dotnet_interactive": {
     "language": "pwsh"
    }
   },
   "outputs": [
    {
     "name": "stdout",
     "output_type": "stream",
     "text": [
      "sum = 3\r\n"
     ]
    }
   ],
   "source": [
    "# return multiple values\n",
    "function Get-Math ($a, $b) {\n",
    "    $sum = $a + $b\n",
    "    $diff = $a - $b\n",
    "    $prod = $a * $b\n",
    "    $div  = $a / $b\n",
    "    return $sum, $diff, $prod, $div\n",
    "}\n",
    "$s, $d, $p, $d = Get-Math -a 2 -b 1\n",
    "Write-Host \"sum = $s\""
   ]
  },
  {
   "cell_type": "code",
   "execution_count": null,
   "metadata": {
    "dotnet_interactive": {
     "language": "pwsh"
    }
   },
   "outputs": [
    {
     "name": "stdout",
     "output_type": "stream",
     "text": [
      "sum = 3\r\n",
      "sum = 3\r\n"
     ]
    }
   ],
   "source": [
    "# return multiple values using dictionaries\n",
    "function Get-Math ($a, $b) {\n",
    "    $sum = $a + $b\n",
    "    $diff = $a - $b\n",
    "    $prod = $a * $b\n",
    "    $div  = $a / $b\n",
    "    return @{ sum = $sum; diff = $diff; product = $prod; division = $div }\n",
    "}\n",
    "$result = Get-Math -a 2 -b 1\n",
    "Write-Host \"sum = $($result.sum)\"\n",
    "Write-Host \"sum =\" $result.sum\n"
   ]
  },
  {
   "cell_type": "code",
   "execution_count": null,
   "metadata": {
    "dotnet_interactive": {
     "language": "pwsh"
    }
   },
   "outputs": [
    {
     "name": "stdout",
     "output_type": "stream",
     "text": [
      "before: i = 10, f = 1, b = False, s = a string\r\n",
      "after : i = 10, f = 1, b = False, s = a string\r\n"
     ]
    }
   ],
   "source": [
    "# by value\n",
    "function PassByValue ($integer, $decimal, $boolean, $string) {\n",
    "    $integer++\n",
    "    $decimal *= [Math]::PI\n",
    "    $boolean = -not $boolean\n",
    "    $string = \"a different string\"\n",
    "}\n",
    "\n",
    "$i = 10\n",
    "$f = 1.0\n",
    "$b = $false\n",
    "$s = \"a string\"\n",
    "\n",
    "Write-Host \"before: i = $i, f = $f, b = $b, s = $s\"\n",
    "PassByValue $i $f $b $s \n",
    "Write-Host \"after : i = $i, f = $f, b = $b, s = $s\"\n"
   ]
  },
  {
   "cell_type": "code",
   "execution_count": null,
   "metadata": {
    "dotnet_interactive": {
     "language": "pwsh"
    }
   },
   "outputs": [
    {
     "name": "stdout",
     "output_type": "stream",
     "text": [
      "before: a = [1 2 3 4 5], d = {\"banana\":\"yellow\",\"apple\":\"red\"}\r\n",
      "after : a = [234 2 3 4 5 999], d = {\"orange\":\"orange\",\"banana\":\"yellow\",\"apple\":\"red\"}\r\n"
     ]
    }
   ],
   "source": [
    "# by reference\n",
    "function PassByReference ($array, $dictionary) {\n",
    "    $array[0] = 234\n",
    "    $array += 999\n",
    "    $dictionary.orange = 'orange'\n",
    "\n",
    "    return $array\n",
    "}\n",
    "\n",
    "$a = 1, 2, 3, 4, 5\n",
    "$d = @{ apple = 'red'; banana = 'yellow' }\n",
    "\n",
    "Write-Host \"before: a = [$a], d = $($d | ConvertTo-Json -Compress)\"\n",
    "$a = PassByReference $a $d\n",
    "Write-Host \"after : a = [$a], d = $($d | ConvertTo-Json -Compress)\""
   ]
  },
  {
   "cell_type": "code",
   "execution_count": null,
   "metadata": {
    "dotnet_interactive": {
     "language": "pwsh"
    }
   },
   "outputs": [],
   "source": []
  }
 ],
 "metadata": {
  "kernelspec": {
   "display_name": ".NET (C#)",
   "language": "C#",
   "name": ".net-csharp"
  },
  "language_info": {
   "file_extension": ".cs",
   "mimetype": "text/x-csharp",
   "name": "C#",
   "pygments_lexer": "csharp",
   "version": "9.0"
  },
  "orig_nbformat": 4
 },
 "nbformat": 4,
 "nbformat_minor": 2
}
