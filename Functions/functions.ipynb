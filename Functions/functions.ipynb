{
 "cells": [
  {
   "cell_type": "code",
   "execution_count": null,
   "metadata": {
    "dotnet_interactive": {
     "language": "pwsh"
    }
   },
   "outputs": [
    {
     "name": "stdout",
     "output_type": "stream",
     "text": [
      "Hello\r\n"
     ]
    }
   ],
   "source": [
    "# simple function\n",
    "function Write-Hello {\n",
    "    Write-Host \"Hello\"\n",
    "}\n",
    "Write-Hello"
   ]
  },
  {
   "cell_type": "code",
   "execution_count": null,
   "metadata": {
    "dotnet_interactive": {
     "language": "pwsh"
    }
   },
   "outputs": [
    {
     "name": "stdout",
     "output_type": "stream",
     "text": [
      "Hello, Johnny\r\n",
      "Hello, Sally\r\n",
      "Hello, Suzie\r\n"
     ]
    }
   ],
   "source": [
    "# function with one parameter\n",
    "function Write-Hello ($Name) {\n",
    "    $greeting = \"Hello\"\n",
    "    Write-Host \"$greeting, $Name\"\n",
    "}\n",
    "Write-Hello \"Johnny\"\n",
    "Write-Hello \"Sally\"\n",
    "Write-Hello -Name \"Suzie\""
   ]
  },
  {
   "cell_type": "code",
   "execution_count": null,
   "metadata": {
    "dotnet_interactive": {
     "language": "pwsh"
    }
   },
   "outputs": [
    {
     "name": "stdout",
     "output_type": "stream",
     "text": [
      "Hello, Johnny\r\n",
      "Hello, Johnny\r\n",
      "Goodbye, Suzie\r\n"
     ]
    }
   ],
   "source": [
    "# functions with two parameters\n",
    "function Write-Greeting ($Greeting, $Name) {\n",
    "    Write-Host \"$Greeting, $Name\"\n",
    "}\n",
    "Write-Greeting \"Hello\" \"Johnny\"\n",
    "Write-Greeting -Greeting \"Hello\" -Name \"Johnny\"\n",
    "Write-Greeting -Name \"Suzie\" -Greeting \"Goodbye\""
   ]
  },
  {
   "cell_type": "code",
   "execution_count": null,
   "metadata": {
    "dotnet_interactive": {
     "language": "pwsh"
    }
   },
   "outputs": [
    {
     "name": "stdout",
     "output_type": "stream",
     "text": [
      "3\r\n"
     ]
    }
   ],
   "source": [
    "# return values\n",
    "function Get-Sum ($a, $b) {\n",
    "    $c = $a + $b\n",
    "    return $c\n",
    "}\n",
    "Get-Sum 1 2"
   ]
  },
  {
   "cell_type": "code",
   "execution_count": null,
   "metadata": {
    "dotnet_interactive": {
     "language": "pwsh"
    }
   },
   "outputs": [
    {
     "name": "stdout",
     "output_type": "stream",
     "text": [
      "3 1 2 2\r\n"
     ]
    }
   ],
   "source": [
    "# return multiple values\n",
    "function Get-Math ($a, $b) {\n",
    "    $sum = $a + $b\n",
    "    $diff = $a - $b\n",
    "    $prod = $a * $b\n",
    "    $div  = $a / $b\n",
    "    return $sum, $diff, $prod, $div\n",
    "}\n",
    "Write-Host (Get-Math -a 2 -b 1)"
   ]
  },
  {
   "cell_type": "code",
   "execution_count": null,
   "metadata": {
    "dotnet_interactive": {
     "language": "pwsh"
    }
   },
   "outputs": [],
   "source": []
  }
 ],
 "metadata": {
  "kernelspec": {
   "display_name": ".NET (C#)",
   "language": "C#",
   "name": ".net-csharp"
  },
  "language_info": {
   "file_extension": ".cs",
   "mimetype": "text/x-csharp",
   "name": "C#",
   "pygments_lexer": "csharp",
   "version": "9.0"
  },
  "orig_nbformat": 4
 },
 "nbformat": 4,
 "nbformat_minor": 2
}
