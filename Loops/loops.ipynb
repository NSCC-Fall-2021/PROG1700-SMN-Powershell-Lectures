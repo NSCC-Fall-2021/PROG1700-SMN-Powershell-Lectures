{
 "cells": [
  {
   "cell_type": "code",
   "execution_count": null,
   "metadata": {
    "dotnet_interactive": {
     "language": "pwsh"
    }
   },
   "outputs": [
    {
     "name": "stdout",
     "output_type": "stream",
     "text": [
      "All good..\r\n",
      "All good..\r\n",
      "All good..\r\n",
      "All good..\r\n",
      "All good..\r\n"
     ]
    }
   ],
   "source": [
    "# simple while loop\n",
    "$num = 5\n",
    "while ($num -lt 10) {\n",
    "    Write-Host \"All good..\"\n",
    "    $num = $num + 1 # an accumulator\n",
    "}"
   ]
  },
  {
   "cell_type": "code",
   "execution_count": null,
   "metadata": {
    "dotnet_interactive": {
     "language": "pwsh"
    }
   },
   "outputs": [
    {
     "name": "stdout",
     "output_type": "stream",
     "text": [
      "All good..\r\n",
      "All good..\r\n",
      "All good..\r\n",
      "All good..\r\n",
      "All good..\r\n",
      "All good..\r\n",
      "All good..\r\n",
      "All good..\r\n",
      "All good..\r\n",
      "All good..\r\n"
     ]
    }
   ],
   "source": [
    "# simple while loop\n",
    "$num = 10\n",
    "while ($num -gt 0) {\n",
    "    Write-Host \"All good..\"\n",
    "    $num = $num - 1 # an accumulator\n",
    "}"
   ]
  },
  {
   "cell_type": "code",
   "execution_count": null,
   "metadata": {
    "dotnet_interactive": {
     "language": "pwsh"
    }
   },
   "outputs": [
    {
     "name": "stdout",
     "output_type": "stream",
     "text": [
      "5\r\n",
      "4\r\n",
      "3\r\n",
      "2\r\n",
      "1\r\n"
     ]
    }
   ],
   "source": [
    "# another form of the accumulator\n",
    "$num = 5\n",
    "while ($num -gt 0) {\n",
    "    Write-Host $num\n",
    "    $num--\n",
    "}"
   ]
  },
  {
   "cell_type": "code",
   "execution_count": null,
   "metadata": {
    "dotnet_interactive": {
     "language": "pwsh"
    }
   },
   "outputs": [
    {
     "name": "stdout",
     "output_type": "stream",
     "text": [
      "5\r\n",
      "3\r\n",
      "1\r\n"
     ]
    }
   ],
   "source": [
    "# another form of the accumulator\n",
    "$num = 5\n",
    "while ($num -gt 0) {\n",
    "    Write-Host $num\n",
    "    $num -= 2\n",
    "}"
   ]
  },
  {
   "cell_type": "code",
   "execution_count": null,
   "metadata": {
    "dotnet_interactive": {
     "language": "pwsh"
    }
   },
   "outputs": [],
   "source": [
    "# while that doesn't run\n",
    "$num = 0\n",
    "while ($num -eq 5) {\n",
    "    Write-Host \"You can't see me!\"\n",
    "}"
   ]
  },
  {
   "cell_type": "code",
   "execution_count": null,
   "metadata": {
    "dotnet_interactive": {
     "language": "pwsh"
    }
   },
   "outputs": [
    {
     "name": "stdout",
     "output_type": "stream",
     "text": [
      "You can see me!\r\n"
     ]
    }
   ],
   "source": [
    "# do while runs at least once\n",
    "$num = 0\n",
    "do {\n",
    "    Write-Host \"You can see me!\"\n",
    "} while ($num -eq 5)"
   ]
  },
  {
   "cell_type": "code",
   "execution_count": null,
   "metadata": {
    "dotnet_interactive": {
     "language": "pwsh"
    }
   },
   "outputs": [
    {
     "name": "stdout",
     "output_type": "stream",
     "text": [
      "You can see me!\r\n"
     ]
    }
   ],
   "source": [
    "# do until runs until true\n",
    "$num = 5\n",
    "do {\n",
    "    Write-Host \"You can see me!\"\n",
    "} until ($num -eq 5)"
   ]
  },
  {
   "cell_type": "code",
   "execution_count": null,
   "metadata": {
    "dotnet_interactive": {
     "language": "pwsh"
    }
   },
   "outputs": [],
   "source": [
    "# sentinel values\n",
    "do {\n",
    "    $input = Read-Host \"Enter a number (ENTER to end)\"\n",
    "    Write-Host $input\n",
    "} while ($input -ne \"\")"
   ]
  }
 ],
 "metadata": {
  "kernelspec": {
   "display_name": ".NET (C#)",
   "language": "C#",
   "name": ".net-csharp"
  },
  "language_info": {
   "file_extension": ".cs",
   "mimetype": "text/x-csharp",
   "name": "C#",
   "pygments_lexer": "csharp",
   "version": "9.0"
  },
  "orig_nbformat": 4
 },
 "nbformat": 4,
 "nbformat_minor": 2
}
