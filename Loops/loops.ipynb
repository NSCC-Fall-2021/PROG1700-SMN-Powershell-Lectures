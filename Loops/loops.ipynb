{
 "cells": [
  {
   "cell_type": "code",
   "execution_count": null,
   "metadata": {
    "dotnet_interactive": {
     "language": "pwsh"
    }
   },
   "outputs": [
    {
     "name": "stdout",
     "output_type": "stream",
     "text": [
      "All good..\r\n",
      "All good..\r\n",
      "All good..\r\n",
      "All good..\r\n",
      "All good..\r\n"
     ]
    }
   ],
   "source": [
    "# simple while loop\n",
    "$num = 5\n",
    "while ($num -lt 10) {\n",
    "    Write-Host \"All good..\"\n",
    "    $num = $num + 1 # an accumulator\n",
    "}"
   ]
  },
  {
   "cell_type": "code",
   "execution_count": null,
   "metadata": {
    "dotnet_interactive": {
     "language": "pwsh"
    }
   },
   "outputs": [
    {
     "name": "stdout",
     "output_type": "stream",
     "text": [
      "All good..\r\n",
      "All good..\r\n",
      "All good..\r\n",
      "All good..\r\n",
      "All good..\r\n",
      "All good..\r\n",
      "All good..\r\n",
      "All good..\r\n",
      "All good..\r\n",
      "All good..\r\n"
     ]
    }
   ],
   "source": [
    "# simple while loop\n",
    "$num = 10\n",
    "while ($num -gt 0) {\n",
    "    Write-Host \"All good..\"\n",
    "    $num = $num - 1 # an accumulator\n",
    "}"
   ]
  },
  {
   "cell_type": "code",
   "execution_count": null,
   "metadata": {
    "dotnet_interactive": {
     "language": "pwsh"
    }
   },
   "outputs": [
    {
     "name": "stdout",
     "output_type": "stream",
     "text": [
      "5\r\n",
      "4\r\n",
      "3\r\n",
      "2\r\n",
      "1\r\n"
     ]
    }
   ],
   "source": [
    "# another form of the accumulator\n",
    "$num = 5\n",
    "while ($num -gt 0) {\n",
    "    Write-Host $num\n",
    "    $num--\n",
    "}"
   ]
  },
  {
   "cell_type": "code",
   "execution_count": null,
   "metadata": {
    "dotnet_interactive": {
     "language": "pwsh"
    }
   },
   "outputs": [
    {
     "name": "stdout",
     "output_type": "stream",
     "text": [
      "5\r\n",
      "3\r\n",
      "1\r\n"
     ]
    }
   ],
   "source": [
    "# another form of the accumulator\n",
    "$num = 5\n",
    "while ($num -gt 0) {\n",
    "    Write-Host $num\n",
    "    $num -= 2\n",
    "}"
   ]
  },
  {
   "cell_type": "code",
   "execution_count": null,
   "metadata": {
    "dotnet_interactive": {
     "language": "pwsh"
    }
   },
   "outputs": [],
   "source": [
    "# while that doesn't run\n",
    "$num = 0\n",
    "while ($num -eq 5) {\n",
    "    Write-Host \"You can't see me!\"\n",
    "}"
   ]
  },
  {
   "cell_type": "code",
   "execution_count": null,
   "metadata": {
    "dotnet_interactive": {
     "language": "pwsh"
    }
   },
   "outputs": [
    {
     "name": "stdout",
     "output_type": "stream",
     "text": [
      "You can see me!\r\n"
     ]
    }
   ],
   "source": [
    "# do while runs at least once\n",
    "$num = 0\n",
    "do {\n",
    "    Write-Host \"You can see me!\"\n",
    "} while ($num -eq 5)"
   ]
  },
  {
   "cell_type": "code",
   "execution_count": null,
   "metadata": {
    "dotnet_interactive": {
     "language": "pwsh"
    }
   },
   "outputs": [
    {
     "name": "stdout",
     "output_type": "stream",
     "text": [
      "You can see me!\r\n"
     ]
    }
   ],
   "source": [
    "# do until runs until true\n",
    "$num = 5\n",
    "do {\n",
    "    Write-Host \"You can see me!\"\n",
    "} until ($num -eq 5)"
   ]
  },
  {
   "cell_type": "code",
   "execution_count": null,
   "metadata": {
    "dotnet_interactive": {
     "language": "pwsh"
    }
   },
   "outputs": [],
   "source": [
    "# sentinel values\n",
    "do {\n",
    "    $input = Read-Host \"Enter a number (ENTER to end)\"\n",
    "    Write-Host $input\n",
    "} while ($input -ne \"\")"
   ]
  },
  {
   "cell_type": "code",
   "execution_count": null,
   "metadata": {
    "dotnet_interactive": {
     "language": "pwsh"
    }
   },
   "outputs": [
    {
     "name": "stdout",
     "output_type": "stream",
     "text": [
      "99.438075\r\n",
      "75.87615\r\n",
      "52.31422499999999\r\n",
      "28.752299999999995\r\n",
      "True\r\n",
      "sam\r\n"
     ]
    }
   ],
   "source": [
    "# lengthy expressions are allowed\n",
    "$num = 123\n",
    "$name = \"bob\"\n",
    "$boolean = $false\n",
    "$pi = 3.14159\n",
    "\n",
    "# loop while $num > 0, $boolean = $false\n",
    "# subtract pi * 10 from the number each loop\n",
    "# when num < 50, change boolean to true\n",
    "# when num < 25, change the name to \"sam\"\n",
    "\n",
    "while (($num -gt 0) -and ($boolean -eq $false)) {\n",
    "    $num -= ($pi * 7.5) # the same as '$num = $num - $pi'\n",
    "    Write-Host $num\n",
    "    if ($boolean = $num -lt 50) {\n",
    "        Write-Host $boolean\n",
    "    }\n",
    "    if ($num -lt 35) {\n",
    "        $name = \"sam\"\n",
    "        Write-Host $name\n",
    "    }\n",
    "}"
   ]
  },
  {
   "cell_type": "code",
   "execution_count": null,
   "metadata": {
    "dotnet_interactive": {
     "language": "pwsh"
    }
   },
   "outputs": [
    {
     "name": "stdout",
     "output_type": "stream",
     "text": [
      "1\r\n",
      "2\r\n",
      "3\r\n",
      "4\r\n",
      "5\r\n"
     ]
    }
   ],
   "source": [
    "# use while loop to print 1-5\n",
    "$count = 1\n",
    "while ($count -le 5) {\n",
    "    Write-Host $count\n",
    "    $count++ # same as $count = $count + 1\n",
    "}"
   ]
  },
  {
   "cell_type": "code",
   "execution_count": null,
   "metadata": {
    "dotnet_interactive": {
     "language": "pwsh"
    }
   },
   "outputs": [
    {
     "name": "stdout",
     "output_type": "stream",
     "text": [
      "1\r\n",
      "2\r\n",
      "3\r\n",
      "4\r\n",
      "5\r\n"
     ]
    }
   ],
   "source": [
    "# for loop version\n",
    "for ($count = 1; $count -le 5; $count++) {\n",
    "    Write-Host $count\n",
    "}"
   ]
  },
  {
   "cell_type": "code",
   "execution_count": null,
   "metadata": {
    "dotnet_interactive": {
     "language": "pwsh"
    }
   },
   "outputs": [
    {
     "name": "stdout",
     "output_type": "stream",
     "text": [
      "5\r\n",
      "4\r\n",
      "3\r\n",
      "2\r\n",
      "1\r\n"
     ]
    }
   ],
   "source": [
    "# for loop version\n",
    "for ($count = 5; $count -gt 0; $count--) {\n",
    "    Write-Host $count\n",
    "}"
   ]
  },
  {
   "cell_type": "code",
   "execution_count": null,
   "metadata": {
    "dotnet_interactive": {
     "language": "pwsh"
    }
   },
   "outputs": [
    {
     "name": "stdout",
     "output_type": "stream",
     "text": [
      "1\r\n",
      "2\r\n",
      "3\r\n",
      "4\r\n"
     ]
    }
   ],
   "source": [
    "# post-increment\n",
    "$num = 1\n",
    "while ($num -lt 5) {\n",
    "    Write-Host ($num++)\n",
    "}"
   ]
  },
  {
   "cell_type": "code",
   "execution_count": null,
   "metadata": {
    "dotnet_interactive": {
     "language": "pwsh"
    }
   },
   "outputs": [
    {
     "name": "stdout",
     "output_type": "stream",
     "text": [
      "2\r\n",
      "3\r\n",
      "4\r\n",
      "5\r\n"
     ]
    }
   ],
   "source": [
    "# pre-increment\n",
    "$num = 1\n",
    "while ($num -lt 5) {\n",
    "    Write-Host (++$num)\n",
    "}"
   ]
  },
  {
   "cell_type": "code",
   "execution_count": null,
   "metadata": {
    "dotnet_interactive": {
     "language": "pwsh"
    }
   },
   "outputs": [
    {
     "name": "stdout",
     "output_type": "stream",
     "text": [
      "50\r\n",
      "40\r\n",
      "30\r\n",
      "20\r\n",
      "10\r\n"
     ]
    }
   ],
   "source": [
    "# you don't have to go by ones\n",
    "for ($count = 50; $count -gt 0; $count -= 10) {\n",
    "    Write-Host $count\n",
    "}"
   ]
  },
  {
   "cell_type": "code",
   "execution_count": null,
   "metadata": {
    "dotnet_interactive": {
     "language": "pwsh"
    }
   },
   "outputs": [
    {
     "name": "stdout",
     "output_type": "stream",
     "text": [
      "1\r\n",
      "2\r\n",
      "3\r\n",
      "4\r\n",
      "5\r\n",
      "16\r\n",
      "15\r\n",
      "14\r\n",
      "13\r\n",
      "12\r\n",
      "11\r\n",
      "10\r\n",
      "9\r\n",
      "8\r\n",
      "7\r\n",
      "6\r\n",
      "5\r\n",
      "4\r\n",
      "3\r\n",
      "2\r\n",
      "1\r\n"
     ]
    }
   ],
   "source": [
    "# already have a variable to use?\n",
    "$count = 1\n",
    "for (; $count -le 5; $count++) {\n",
    "    Write-Host $count\n",
    "}\n",
    "$count += 10\n",
    "for (; $count -gt 0; $count--) {\n",
    "    Write-Host $count\n",
    "}\n"
   ]
  },
  {
   "cell_type": "code",
   "execution_count": null,
   "metadata": {
    "dotnet_interactive": {
     "language": "pwsh"
    }
   },
   "outputs": [
    {
     "name": "stdout",
     "output_type": "stream",
     "text": [
      "i = 1\r\n",
      "j = 1\r\n",
      "j = 2\r\n",
      "j = 3\r\n",
      "j = 4\r\n",
      "j = 5\r\n",
      "i = 2\r\n",
      "j = 1\r\n",
      "j = 2\r\n",
      "j = 3\r\n",
      "j = 4\r\n",
      "j = 5\r\n",
      "i = 3\r\n",
      "j = 1\r\n",
      "j = 2\r\n",
      "j = 3\r\n",
      "j = 4\r\n",
      "j = 5\r\n",
      "i = 4\r\n",
      "j = 1\r\n",
      "j = 2\r\n",
      "j = 3\r\n",
      "j = 4\r\n",
      "j = 5\r\n",
      "i = 5\r\n",
      "j = 1\r\n",
      "j = 2\r\n",
      "j = 3\r\n",
      "j = 4\r\n",
      "j = 5\r\n"
     ]
    }
   ],
   "source": [
    "# nested loops\n",
    "for ($i = 1; $i -le 5; $i++) {\n",
    "\tWrite-Host \"i = $i\"\n",
    "\tfor ($j = 1; $j -le 5; $j++) {\n",
    "\t\tWrite-Host \"j = $j\"\n",
    "\t}\n",
    "}"
   ]
  },
  {
   "cell_type": "code",
   "execution_count": null,
   "metadata": {
    "dotnet_interactive": {
     "language": "pwsh"
    }
   },
   "outputs": [
    {
     "name": "stdout",
     "output_type": "stream",
     "text": [
      "2\r\n",
      "3\r\n"
     ]
    }
   ],
   "source": [
    "# break exits the loop early\n",
    "$num = 1\n",
    "while ($num -lt 5) {\n",
    "    Write-Host (++$num)\n",
    "    if ($num -eq 3) {\n",
    "        break\n",
    "    }\n",
    "}"
   ]
  },
  {
   "cell_type": "code",
   "execution_count": null,
   "metadata": {
    "dotnet_interactive": {
     "language": "pwsh"
    }
   },
   "outputs": [
    {
     "name": "stdout",
     "output_type": "stream",
     "text": [
      "2\r\n",
      "3\r\n",
      "5\r\n"
     ]
    }
   ],
   "source": [
    "# continue\n",
    "$num = 1\n",
    "while ($num -lt 5) {\n",
    "    if ($num++ -eq 3) {\n",
    "        continue\n",
    "    }\n",
    "    Write-Host ($num)\n",
    "}"
   ]
  },
  {
   "cell_type": "code",
   "execution_count": null,
   "metadata": {
    "dotnet_interactive": {
     "language": "pwsh"
    }
   },
   "outputs": [
    {
     "name": "stdout",
     "output_type": "stream",
     "text": [
      "     o\r\n",
      "    oo\r\n",
      "   ooo\r\n",
      "  oooo\r\n",
      " ooooo\r\n",
      "oooooo\r\n"
     ]
    }
   ],
   "source": [
    "# draw a triangle\n",
    "\n",
    "#      o\n",
    "#     oo\n",
    "#    ooo\n",
    "#   oooo\n",
    "#  ooooo\n",
    "# oooooo\n",
    "\n",
    "for ($i = 1; $i -le 6; $i = $i + 1) {\n",
    "    Write-Host (\" \" * (6 - $i)) -NoNewline\n",
    "    Write-Host (\"o\" * $i)\n",
    "}"
   ]
  },
  {
   "cell_type": "code",
   "execution_count": null,
   "metadata": {
    "dotnet_interactive": {
     "language": "pwsh"
    }
   },
   "outputs": [
    {
     "name": "stdout",
     "output_type": "stream",
     "text": [
      "True\r\n"
     ]
    }
   ],
   "source": [
    "# compare apples to oranges\n",
    "\"bananas\" -gt \"apples\" -and \"bananas\" -lt \"oranges\""
   ]
  },
  {
   "cell_type": "code",
   "execution_count": null,
   "metadata": {
    "dotnet_interactive": {
     "language": "pwsh"
    }
   },
   "outputs": [
    {
     "name": "stdout",
     "output_type": "stream",
     "text": [
      "1\r\n"
     ]
    }
   ],
   "source": [
    "# does a number have a remainder?\n",
    "123 % 2"
   ]
  },
  {
   "cell_type": "code",
   "execution_count": null,
   "metadata": {
    "dotnet_interactive": {
     "language": "pwsh"
    }
   },
   "outputs": [
    {
     "name": "stdout",
     "output_type": "stream",
     "text": [
      "False\r\n"
     ]
    }
   ],
   "source": [
    "\"a\" -lt \";\""
   ]
  },
  {
   "cell_type": "code",
   "execution_count": null,
   "metadata": {
    "dotnet_interactive": {
     "language": "pwsh"
    }
   },
   "outputs": [
    {
     "name": "stdout",
     "output_type": "stream",
     "text": [
      "125\r\n"
     ]
    }
   ],
   "source": [
    "[byte][char]'}'"
   ]
  },
  {
   "cell_type": "code",
   "execution_count": null,
   "metadata": {
    "dotnet_interactive": {
     "language": "pwsh"
    }
   },
   "outputs": [],
   "source": []
  }
 ],
 "metadata": {
  "kernelspec": {
   "display_name": ".NET (C#)",
   "language": "C#",
   "name": ".net-csharp"
  },
  "language_info": {
   "file_extension": ".cs",
   "mimetype": "text/x-csharp",
   "name": "C#",
   "pygments_lexer": "csharp",
   "version": "9.0"
  },
  "orig_nbformat": 4
 },
 "nbformat": 4,
 "nbformat_minor": 2
}
