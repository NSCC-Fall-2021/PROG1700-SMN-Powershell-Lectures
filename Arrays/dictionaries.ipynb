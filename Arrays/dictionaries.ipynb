{
 "cells": [
  {
   "cell_type": "code",
   "execution_count": null,
   "metadata": {
    "dotnet_interactive": {
     "language": "pwsh"
    }
   },
   "outputs": [
    {
     "name": "stdout",
     "output_type": "stream",
     "text": [
      "1\r\n"
     ]
    }
   ],
   "source": [
    "# creating a new dictionary\n",
    "$dictionary = @{ a = 1; b = 2; c = 3 }\n",
    "$dictionary['a']"
   ]
  },
  {
   "cell_type": "code",
   "execution_count": null,
   "metadata": {
    "dotnet_interactive": {
     "language": "pwsh"
    }
   },
   "outputs": [
    {
     "name": "stdout",
     "output_type": "stream",
     "text": [
      "\r\n",
      "Name                           Value\r\n",
      "----                           -----\r\n",
      "c                              3\r\n",
      "a                              4\r\n",
      "b                              2\r\n",
      "\r\n"
     ]
    }
   ],
   "source": [
    "# modify a dictionary value\n",
    "$dictionary = @{ a = 1; b = 2; c = 3 }\n",
    "$dictionary['a'] = 4\n",
    "$dictionary"
   ]
  },
  {
   "cell_type": "code",
   "execution_count": null,
   "metadata": {
    "dotnet_interactive": {
     "language": "pwsh"
    }
   },
   "outputs": [
    {
     "name": "stdout",
     "output_type": "stream",
     "text": [
      "4\r\n",
      "\r\n",
      "Name                           Value\r\n",
      "----                           -----\r\n",
      "e                              6\r\n",
      "my key                         5\r\n",
      "d                              4\r\n",
      "c                              3\r\n",
      "b                              2\r\n",
      "a                              1\r\n",
      "\r\n"
     ]
    }
   ],
   "source": [
    "# adding a dictionary value\n",
    "$dictionary = @{ a = 1; b = 2; c = 3 }\n",
    "$dictionary['d'] = 4\n",
    "$dictionary.d\n",
    "\n",
    "$dictionary['my key'] = 5\n",
    "\n",
    "$dictionary.e = 6\n",
    "$dictionary"
   ]
  },
  {
   "cell_type": "code",
   "execution_count": null,
   "metadata": {
    "dotnet_interactive": {
     "language": "pwsh"
    }
   },
   "outputs": [
    {
     "name": "stdout",
     "output_type": "stream",
     "text": [
      "\r\n",
      "Name                           Value\r\n",
      "----                           -----\r\n",
      "c                              3\r\n",
      "b                              2\r\n",
      "\r\n"
     ]
    }
   ],
   "source": [
    "# remove a value\n",
    "$dictionary = @{ 'a' = 1; 'b' = 2; 'c' = 3 }\n",
    "$dictionary.Remove('a')\n",
    "$dictionary"
   ]
  },
  {
   "cell_type": "code",
   "execution_count": null,
   "metadata": {
    "dotnet_interactive": {
     "language": "pwsh"
    }
   },
   "outputs": [
    {
     "name": "stdout",
     "output_type": "stream",
     "text": [
      "3\r\n",
      "1\r\n",
      "2\r\n"
     ]
    }
   ],
   "source": [
    "# iterating over a dictionary\n",
    "$dictionary = @{ a = 1; b = 2; c = 3 }\n",
    "\n",
    "foreach ($key in $dictionary.keys) {\n",
    "\t$dictionary[$key]\n",
    "}"
   ]
  },
  {
   "cell_type": "code",
   "execution_count": null,
   "metadata": {
    "dotnet_interactive": {
     "language": "pwsh"
    }
   },
   "outputs": [
    {
     "name": "stdout",
     "output_type": "stream",
     "text": [
      "\r\n",
      "IsPublic IsSerial Name                                     BaseType\r\n",
      "-------- -------- ----                                     --------\r\n",
      "False    False    KeyCollection                            System.Object\r\n",
      "3\r\n",
      "3\r\n",
      "\r\n"
     ]
    }
   ],
   "source": [
    "$dictionary = @{ a = 1; b = 2; c = 3 }\n",
    "$dictionary.Keys.GetType()\n",
    "$dictionary.Keys.Count\n",
    "$dictionary.Count"
   ]
  },
  {
   "cell_type": "code",
   "execution_count": null,
   "metadata": {
    "dotnet_interactive": {
     "language": "pwsh"
    }
   },
   "outputs": [
    {
     "name": "stdout",
     "output_type": "stream",
     "text": [
      "3\r\n",
      "1\r\n",
      "2\r\n"
     ]
    }
   ],
   "source": [
    "# values\n",
    "$dictionary = @{ a = 1; b = 2; c = 3 }\n",
    "foreach ($value in $dictionary.Values) {\n",
    "    Write-Host $value\n",
    "}"
   ]
  },
  {
   "cell_type": "code",
   "execution_count": null,
   "metadata": {
    "dotnet_interactive": {
     "language": "pwsh"
    }
   },
   "outputs": [
    {
     "name": "stdout",
     "output_type": "stream",
     "text": [
      "\r\n",
      "Name                           Value\r\n",
      "----                           -----\r\n",
      "c                              3\r\n",
      "a                              1\r\n",
      "d                              4\r\n",
      "b                              2\r\n",
      "\r\n"
     ]
    }
   ],
   "source": [
    "# items\n",
    "$dictionary = @{ a = 1; b = 2; c = 3 }\n",
    "$dictionary.Add('d', 4)\n",
    "$dictionary"
   ]
  },
  {
   "cell_type": "code",
   "execution_count": null,
   "metadata": {
    "dotnet_interactive": {
     "language": "pwsh"
    }
   },
   "outputs": [
    {
     "name": "stdout",
     "output_type": "stream",
     "text": [
      "1 2 3\r\n"
     ]
    }
   ],
   "source": [
    "# destructuring a dictionary\n",
    "$dictionary = @{ a = 1; b = 2; c = 3 }\n",
    "$a, $b, $c = $dictionary.a, $dictionary.b, $dictionary.c\n",
    "Write-Host $a $b $c"
   ]
  },
  {
   "cell_type": "code",
   "execution_count": null,
   "metadata": {
    "dotnet_interactive": {
     "language": "pwsh"
    }
   },
   "outputs": [
    {
     "name": "stdout",
     "output_type": "stream",
     "text": [
      "3\r\n",
      "3\r\n",
      "3\r\n"
     ]
    }
   ],
   "source": [
    "# a dictionary can contain anything!\n",
    "$dictionary = @{\n",
    "\n",
    "    number = 12345;\n",
    "    word = 'alfalfa';\n",
    "    array = @(1, 2, 3, 4, 5);\n",
    "    dict = @{ a = 1; b = 2; c = 3 }\n",
    "}\n",
    "\n",
    "$dictionary.array[2]\n",
    "$dictionary.dict.c\n",
    "$dictionary['dict']['c']"
   ]
  },
  {
   "cell_type": "code",
   "execution_count": null,
   "metadata": {
    "dotnet_interactive": {
     "language": "pwsh"
    }
   },
   "outputs": [
    {
     "name": "stdout",
     "output_type": "stream",
     "text": [
      "HELLO\r\n"
     ]
    }
   ],
   "source": [
    "# uppercase a string\n",
    "$string = \"hello\"\n",
    "$string = $string.ToUpper()\n",
    "$string"
   ]
  },
  {
   "cell_type": "code",
   "execution_count": null,
   "metadata": {
    "dotnet_interactive": {
     "language": "pwsh"
    }
   },
   "outputs": [
    {
     "name": "stdout",
     "output_type": "stream",
     "text": [
      "hello\r\n"
     ]
    }
   ],
   "source": [
    "# lowercase a string\n",
    "$string = \"HELLO\"\n",
    "$string = $string.ToLower()\n",
    "$string"
   ]
  },
  {
   "cell_type": "code",
   "execution_count": null,
   "metadata": {
    "dotnet_interactive": {
     "language": "pwsh"
    }
   },
   "outputs": [
    {
     "name": "stdout",
     "output_type": "stream",
     "text": [
      "A sentence\r\n"
     ]
    }
   ],
   "source": [
    "# uppercase a single letter\n",
    "$string = \"a sentence\"\n",
    "# take first letter (character) and convert to a string\n",
    "$letter = [string]$string[0]\n",
    "# take the one letter string and uppercase it\n",
    "$letter = $letter.ToUpper()\n",
    "# take remaining portion of string as a sliced array and convert back to a string\n",
    "$rest = $string[1..($string.Length - 1)] -join ''\n",
    "# finally combine the two strings back together\n",
    "$letter + $rest"
   ]
  },
  {
   "cell_type": "code",
   "execution_count": null,
   "metadata": {
    "dotnet_interactive": {
     "language": "pwsh"
    }
   },
   "outputs": [
    {
     "name": "stdout",
     "output_type": "stream",
     "text": [
      "A  s e n t e n c e\r\n"
     ]
    }
   ],
   "source": [
    "# uppercase a character\n",
    "$string = \"a sentence\"\n",
    "$ch = $string[0]\n",
    "$ch = [Char]::ToUpper($ch)\n",
    "$string = $string[1..($string.Length - 1)]\n",
    "$string = $ch + $string\n",
    "$string = [String]::Join('', $string)\n",
    "$string"
   ]
  },
  {
   "cell_type": "code",
   "execution_count": null,
   "metadata": {
    "dotnet_interactive": {
     "language": "pwsh"
    }
   },
   "outputs": [
    {
     "name": "stdout",
     "output_type": "stream",
     "text": [
      "False\r\n"
     ]
    }
   ],
   "source": [
    "# is a character a letter\n",
    "$string = \"a sentence\"\n",
    "\n",
    "$ch = $string[1]\n",
    "[Char]::IsLetter($ch)"
   ]
  },
  {
   "cell_type": "code",
   "execution_count": null,
   "metadata": {
    "dotnet_interactive": {
     "language": "pwsh"
    }
   },
   "outputs": [
    {
     "name": "stdout",
     "output_type": "stream",
     "text": [
      "app\r\n",
      "e,banana,orange\r\n"
     ]
    }
   ],
   "source": [
    "# use splitting on a string\n",
    "$string = \"apple,banana,orange\"\n",
    "\n",
    "$array = $string -split 'l'\n",
    "$array"
   ]
  },
  {
   "cell_type": "code",
   "execution_count": null,
   "metadata": {
    "dotnet_interactive": {
     "language": "pwsh"
    }
   },
   "outputs": [],
   "source": []
  }
 ],
 "metadata": {
  "kernelspec": {
   "display_name": ".NET (C#)",
   "language": "C#",
   "name": ".net-csharp"
  },
  "language_info": {
   "file_extension": ".cs",
   "mimetype": "text/x-csharp",
   "name": "C#",
   "pygments_lexer": "csharp",
   "version": "9.0"
  },
  "orig_nbformat": 4
 },
 "nbformat": 4,
 "nbformat_minor": 2
}
