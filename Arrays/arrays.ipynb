{
 "cells": [
  {
   "cell_type": "code",
   "execution_count": null,
   "metadata": {
    "dotnet_interactive": {
     "language": "pwsh"
    }
   },
   "outputs": [
    {
     "name": "stdout",
     "output_type": "stream",
     "text": [
      "Logic and Programming I Data Fundamentals Intro to Networking\r\n"
     ]
    }
   ],
   "source": [
    "# create a new array\n",
    "$courses = \"Logic and Programming I\", \"Data Fundamentals\", \"Intro to Networking\"\n",
    "\n",
    "Write-Host $courses"
   ]
  },
  {
   "cell_type": "code",
   "execution_count": null,
   "metadata": {
    "dotnet_interactive": {
     "language": "pwsh"
    }
   },
   "outputs": [
    {
     "name": "stdout",
     "output_type": "stream",
     "text": [
      "Logic and Programming I\r\n",
      "Data Fundamentals\r\n",
      "Intro to Networking\r\n"
     ]
    }
   ],
   "source": [
    "# accessing an element of an array\n",
    "$courses = \"Logic and Programming I\", \"Data Fundamentals\", \"Intro to Networking\"\n",
    "\n",
    "Write-Host $courses[0]\n",
    "Write-Host $courses[1]\n",
    "Write-Host $courses[2]\n"
   ]
  },
  {
   "cell_type": "code",
   "execution_count": null,
   "metadata": {
    "dotnet_interactive": {
     "language": "pwsh"
    }
   },
   "outputs": [
    {
     "name": "stdout",
     "output_type": "stream",
     "text": [
      "Logic and Programming I\r\n",
      "Data Fundamentals\r\n",
      "Intro to Networking\r\n"
     ]
    }
   ],
   "source": [
    "# accessing all elements of an array using a for-loop\n",
    "$courses = \"Logic and Programming I\", \"Data Fundamentals\", \"Intro to Networking\"\n",
    "\n",
    "for ($i = 0; $i -le 2; $i++) {\n",
    "    Write-Host $courses[$i]\n",
    "}"
   ]
  },
  {
   "cell_type": "code",
   "execution_count": null,
   "metadata": {
    "dotnet_interactive": {
     "language": "pwsh"
    }
   },
   "outputs": [
    {
     "name": "stdout",
     "output_type": "stream",
     "text": [
      "''\r\n"
     ]
    }
   ],
   "source": [
    "# create an empty array\n",
    "$courses = @()\n",
    "Write-Host \"'$courses'\""
   ]
  },
  {
   "cell_type": "code",
   "execution_count": null,
   "metadata": {
    "dotnet_interactive": {
     "language": "pwsh"
    }
   },
   "outputs": [
    {
     "name": "stdout",
     "output_type": "stream",
     "text": [
      "Logic and Programming I\r\n"
     ]
    }
   ],
   "source": [
    "# create an array with only one element\n",
    "$courses = , \"Logic and Programming I\"\n",
    "Write-Host $courses"
   ]
  },
  {
   "cell_type": "code",
   "execution_count": null,
   "metadata": {
    "dotnet_interactive": {
     "language": "pwsh"
    }
   },
   "outputs": [
    {
     "name": "stdout",
     "output_type": "stream",
     "text": [
      "26\r\n"
     ]
    }
   ],
   "source": [
    "# create an array containing sequential numbers\n",
    "\n",
    "$numbers = 100..125\n",
    "Write-Host $numbers.Length"
   ]
  },
  {
   "cell_type": "code",
   "execution_count": null,
   "metadata": {
    "dotnet_interactive": {
     "language": "pwsh"
    }
   },
   "outputs": [
    {
     "name": "stdout",
     "output_type": "stream",
     "text": [
      "1 2 3 4 5\r\n",
      "1 2 3 99 5\r\n",
      "\r\n",
      "\r\n"
     ]
    }
   ],
   "source": [
    "# change an element in an array\n",
    "$numbers = 1, 2, 3, 4, 5\n",
    "Write-Host $numbers\n",
    "$numbers[3] = 99\n",
    "Write-Host $numbers\n",
    "\n",
    "# try to access an invalid index\n",
    "Write-Host $numbers[99]\n",
    "Write-Host $notANumber"
   ]
  },
  {
   "cell_type": "code",
   "execution_count": null,
   "metadata": {
    "dotnet_interactive": {
     "language": "pwsh"
    }
   },
   "outputs": [
    {
     "name": "stdout",
     "output_type": "stream",
     "text": [
      "1\r\n",
      "2\r\n",
      "1\r\n",
      "2\r\n",
      "3\r\n",
      "4\r\n",
      "5\r\n"
     ]
    }
   ],
   "source": [
    "# slice an array\n",
    "$numbers = 1, 2, 3, 4, 5\n",
    "$slice = $numbers[0..1]\n",
    "\n",
    "for ($i = 0; $i -lt $slice.Length; $i++) {\n",
    "    Write-Host $slice[$i]\n",
    "}\n",
    "\n",
    "foreach ($num in $numbers) {\n",
    "\tWrite-Host $num\n",
    "}"
   ]
  },
  {
   "cell_type": "code",
   "execution_count": null,
   "metadata": {
    "dotnet_interactive": {
     "language": "pwsh"
    }
   },
   "outputs": [
    {
     "name": "stdout",
     "output_type": "stream",
     "text": [
      "apple orange\r\n"
     ]
    }
   ],
   "source": [
    "$array = @()\n",
    "\n",
    "# to add an element to an array\n",
    "$array += \"apple\"\n",
    "$array += \"orange\"\n",
    "\n",
    "Write-Host $array"
   ]
  },
  {
   "cell_type": "code",
   "execution_count": null,
   "metadata": {
    "dotnet_interactive": {
     "language": "pwsh"
    }
   },
   "outputs": [
    {
     "name": "stdout",
     "output_type": "stream",
     "text": [
      "apple orange banana\r\n",
      "orange banana\r\n",
      "apple orange\r\n"
     ]
    }
   ],
   "source": [
    "$array = @()\n",
    "\n",
    "# to add an element to an array\n",
    "$array += \"apple\"\n",
    "$array += \"orange\"\n",
    "$fruit = \"banana\"\n",
    "$array += $fruit\n",
    "Write-Host $array\n",
    "\n",
    "# to remove an element from an array\n",
    "\n",
    "# take all elements except the first one\n",
    "$newArray = $array[1..($array.Length-1)]\n",
    "Write-Host $newArray\n",
    "\n",
    "# take all elements except the last one\n",
    "$newArray = $array[0..($array.Length-2)]\n",
    "Write-Host $newArray\n"
   ]
  },
  {
   "cell_type": "code",
   "execution_count": null,
   "metadata": {
    "dotnet_interactive": {
     "language": "pwsh"
    }
   },
   "outputs": [
    {
     "name": "stdout",
     "output_type": "stream",
     "text": [
      "1 2 3 4 5\r\n",
      "2\r\n"
     ]
    }
   ],
   "source": [
    "# add element to the beginning of an array\n",
    "$numbers = 2, 3, 4, 5\n",
    "$numbers = ,1 + $numbers\n",
    "Write-Host $numbers\n",
    "Write-Host ([Array]::IndexOf($numbers, 3))"
   ]
  },
  {
   "cell_type": "code",
   "execution_count": null,
   "metadata": {
    "dotnet_interactive": {
     "language": "pwsh"
    }
   },
   "outputs": [
    {
     "name": "stdout",
     "output_type": "stream",
     "text": [
      "2\r\n",
      "9\r\n"
     ]
    }
   ],
   "source": [
    "# arrays can contain anything\n",
    "$miscStuff = \"apple\", 3, 3.1519, $true, (1 -lt 5), @(1, 2, 3, 4)\n",
    "Write-Host $miscStuff[5][1]\n",
    "\n",
    "$confusing = @(1, 2, 3, @(4, 5, 6, @(7, 8, 9)))\n",
    "Write-Host $confusing[3][3][2]\n"
   ]
  },
  {
   "cell_type": "code",
   "execution_count": null,
   "metadata": {
    "dotnet_interactive": {
     "language": "pwsh"
    }
   },
   "outputs": [
    {
     "name": "stdout",
     "output_type": "stream",
     "text": [
      "X |O |X |\n",
      "--------\r\n",
      "O |X |O |\n",
      "--------\r\n",
      "  |O |X |\n",
      "--------\r\n",
      "X |O |X |\n",
      "--------\r\n",
      "O |X |O |\n",
      "--------\r\n",
      "O |O |X |\n",
      "--------\r\n"
     ]
    }
   ],
   "source": [
    "# tic tac toe\n",
    "$ticTacToe = @(\n",
    "    @('X','O','X'),\n",
    "    @('O','X','O'),\n",
    "    @(' ','O','X')\n",
    ")\n",
    "\n",
    "for ($row = 0; $row -le 2; $row++) {\n",
    "    for ($col = 0; $col -le 2; $col++) {\n",
    "        Write-Host $ticTacToe[$row][$col] \"|\" -NoNewline\n",
    "    }\n",
    "    Write-Host \"`n--------\"\n",
    "}\n",
    "\n",
    "# change a value\n",
    "$ticTacToe[2][0] = 'O'\n",
    "\n",
    "for ($row = 0; $row -le 2; $row++) {\n",
    "    for ($col = 0; $col -le 2; $col++) {\n",
    "        Write-Host $ticTacToe[$row][$col] \"|\" -NoNewline\n",
    "    }\n",
    "    Write-Host \"`n--------\"\n",
    "}\n"
   ]
  },
  {
   "cell_type": "code",
   "execution_count": null,
   "metadata": {
    "dotnet_interactive": {
     "language": "pwsh"
    }
   },
   "outputs": [],
   "source": []
  }
 ],
 "metadata": {
  "kernelspec": {
   "display_name": ".NET (C#)",
   "language": "C#",
   "name": ".net-csharp"
  },
  "language_info": {
   "file_extension": ".cs",
   "mimetype": "text/x-csharp",
   "name": "C#",
   "pygments_lexer": "csharp",
   "version": "9.0"
  },
  "orig_nbformat": 4
 },
 "nbformat": 4,
 "nbformat_minor": 2
}
