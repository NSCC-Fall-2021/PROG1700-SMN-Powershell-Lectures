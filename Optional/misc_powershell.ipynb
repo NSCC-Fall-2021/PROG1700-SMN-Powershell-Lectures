{
 "cells": [
  {
   "cell_type": "code",
   "execution_count": null,
   "metadata": {
    "dotnet_interactive": {
     "language": "pwsh"
    }
   },
   "outputs": [
    {
     "name": "stdout",
     "output_type": "stream",
     "text": [
      "other\r\n"
     ]
    }
   ],
   "source": [
    "# simple if statement\n",
    "$num = 5\n",
    "\n",
    "if ($num -eq 1) {\n",
    "    Write-Host \"one\"\n",
    "} elseif ($num -eq 2) {\n",
    "    Write-Host \"two\"\n",
    "} elseif ($num -eq 3) {\n",
    "    Write-Host \"three\"\n",
    "} else {\n",
    "    Write-Host \"other\"\n",
    "}"
   ]
  },
  {
   "cell_type": "code",
   "execution_count": null,
   "metadata": {
    "dotnet_interactive": {
     "language": "pwsh"
    }
   },
   "outputs": [
    {
     "name": "stdout",
     "output_type": "stream",
     "text": [
      "other\r\n"
     ]
    }
   ],
   "source": [
    "# if statement rewritten as a switch statement\n",
    "$num = 5\n",
    "\n",
    "switch ($num) {\n",
    "    1 { Write-Host \"one\" }\n",
    "    2 { Write-Host \"two\" }\n",
    "    3 { Write-Host \"three\" }\n",
    "    default { Write-Host \"other\" }\n",
    "}"
   ]
  },
  {
   "cell_type": "code",
   "execution_count": null,
   "metadata": {
    "dotnet_interactive": {
     "language": "pwsh"
    }
   },
   "outputs": [
    {
     "name": "stdout",
     "output_type": "stream",
     "text": [
      "three\r\n"
     ]
    }
   ],
   "source": [
    "# simple if statement\n",
    "$num = 3\n",
    "\n",
    "if ($num -eq 1) {\n",
    "    Write-Host \"one\"\n",
    "} elseif ($num -eq 2) {\n",
    "    Write-Host \"two\"\n",
    "} elseif ($num -eq 3) {\n",
    "    Write-Host \"three\"\n",
    "} elseif ($num -eq 3) {\n",
    "    Write-Host \"three again?\"\n",
    "} else {\n",
    "    Write-Host \"other\"\n",
    "}"
   ]
  },
  {
   "cell_type": "code",
   "execution_count": null,
   "metadata": {
    "dotnet_interactive": {
     "language": "pwsh"
    }
   },
   "outputs": [
    {
     "name": "stdout",
     "output_type": "stream",
     "text": [
      "three\r\n",
      "three again?\r\n"
     ]
    }
   ],
   "source": [
    "# if statement rewritten as a switch statement\n",
    "$num = 3\n",
    "\n",
    "switch ($num) {\n",
    "    3 { Write-Host \"three\" }\n",
    "    1 { Write-Host \"one\" }\n",
    "    2 { Write-Host \"two\" }\n",
    "    3 { Write-Host \"three again?\" }\n",
    "    default { Write-Host \"other\" }\n",
    "}"
   ]
  },
  {
   "cell_type": "code",
   "execution_count": null,
   "metadata": {
    "dotnet_interactive": {
     "language": "pwsh"
    }
   },
   "outputs": [
    {
     "name": "stdout",
     "output_type": "stream",
     "text": [
      "three\r\n"
     ]
    }
   ],
   "source": [
    "# if statement rewritten as a switch statement\n",
    "$num = 3\n",
    "\n",
    "switch ($num) {\n",
    "    3 { \n",
    "        Write-Host \"three\" \n",
    "        break\n",
    "    }\n",
    "    1 { Write-Host \"one\" }\n",
    "    2 { Write-Host \"two\" }\n",
    "    3 { Write-Host \"three again?\" }\n",
    "    default { Write-Host \"other\" }\n",
    "}"
   ]
  },
  {
   "cell_type": "code",
   "execution_count": null,
   "metadata": {
    "dotnet_interactive": {
     "language": "pwsh"
    }
   },
   "outputs": [
    {
     "name": "stdout",
     "output_type": "stream",
     "text": [
      "1\r\n",
      "3\r\n",
      "5\r\n"
     ]
    }
   ],
   "source": [
    "# arrays with for loops\n",
    "$array = 1, 2, 3, 4, 5\n",
    "for ($i = 0; $i -lt $array.Length; $i++) {\n",
    "    if ($array[$i] % 2 -ne 0) {\n",
    "        Write-Host $array[$i]\n",
    "    }\n",
    "}"
   ]
  },
  {
   "cell_type": "code",
   "execution_count": null,
   "metadata": {
    "dotnet_interactive": {
     "language": "pwsh"
    }
   },
   "outputs": [
    {
     "name": "stdout",
     "output_type": "stream",
     "text": [
      "one\r\n",
      "two\r\n",
      "three\r\n",
      "other\r\n",
      "other\r\n"
     ]
    }
   ],
   "source": [
    "$array = 1, 2, 3, 4, 5\n",
    "switch ($array) {\n",
    "    1 { Write-Host \"one\" }\n",
    "    2 { Write-Host \"two\" }\n",
    "    3 { Write-Host \"three\" }\n",
    "    default { Write-Host \"other\" }\n",
    "}"
   ]
  },
  {
   "cell_type": "code",
   "execution_count": null,
   "metadata": {
    "dotnet_interactive": {
     "language": "pwsh"
    }
   },
   "outputs": [
    {
     "name": "stdout",
     "output_type": "stream",
     "text": [
      "less than 2\r\n",
      "three\r\n",
      "greater than 4\r\n"
     ]
    }
   ],
   "source": [
    "$array = 1, 2, 3, 4, 5\n",
    "switch ($array) {\n",
    "    {$_ -lt 2} { Write-Host \"less than 2\"}\n",
    "    {$_ -gt 4} { Write-Host \"greater than 4\"}\n",
    "    3 { Write-Host \"three\" }\n",
    "}"
   ]
  },
  {
   "cell_type": "code",
   "execution_count": null,
   "metadata": {
    "dotnet_interactive": {
     "language": "pwsh"
    }
   },
   "outputs": [
    {
     "name": "stdout",
     "output_type": "stream",
     "text": [
      "odd: 1\r\n",
      "even: 2\r\n",
      "odd: 3\r\n",
      "even: 4\r\n",
      "odd: 5\r\n"
     ]
    }
   ],
   "source": [
    "$array = 1, 2, 3, 4, 5\n",
    "switch ($array) {\n",
    "    {$_ % 2 -ne 0} { Write-Host \"odd: $_\" }\n",
    "    {$_ % 2 -eq 0} { Write-Host \"even: $_\" }\n",
    "}"
   ]
  },
  {
   "cell_type": "code",
   "execution_count": null,
   "metadata": {
    "dotnet_interactive": {
     "language": "pwsh"
    }
   },
   "outputs": [
    {
     "name": "stdout",
     "output_type": "stream",
     "text": [
      "A word!\r\n"
     ]
    }
   ],
   "source": [
    "$text = \"letter\"\n",
    "switch -regex ($text) {\n",
    "    \"\\d+ [a-z]+\" { \n",
    "        Write-Host \"Address!\"\n",
    "        break\n",
    "    }\n",
    "    \"\\d+\" { Write-Host \"A number!\" }\n",
    "    \"[a-z]+\" { Write-Host \"A word!\" }\n",
    "    default { Write-Host \"Something else.\" }\n",
    "}"
   ]
  },
  {
   "cell_type": "code",
   "execution_count": null,
   "metadata": {
    "dotnet_interactive": {
     "language": "pwsh"
    }
   },
   "outputs": [
    {
     "name": "stdout",
     "output_type": "stream",
     "text": [
      "found a\r\n",
      "mmm...apples....\r\n"
     ]
    }
   ],
   "source": [
    "switch (\"I love apple pie.\") {\n",
    "\n",
    "    {$_.contains(\"a\")} { Write-Host \"found a\" }\n",
    "    {$_.contains(\"b\")} { Write-Host \"found b\" }\n",
    "    {$_.contains(\"c\")} { Write-Host \"found a\" }\n",
    "    {$_.contains(\"apple\")} { Write-Host \"mmm...apples....\" }\n",
    "}"
   ]
  },
  {
   "cell_type": "code",
   "execution_count": null,
   "metadata": {
    "dotnet_interactive": {
     "language": "pwsh"
    }
   },
   "outputs": [
    {
     "name": "stdout",
     "output_type": "stream",
     "text": [
      "apple\r\n",
      "orange\r\n",
      "pear\r\n"
     ]
    }
   ],
   "source": [
    "# foreach statement (review)\n",
    "$array = \"apple\", \"orange\", \"pear\"\n",
    "foreach ($fruit in $array) {\n",
    "    Write-Host $fruit\n",
    "}"
   ]
  },
  {
   "cell_type": "code",
   "execution_count": null,
   "metadata": {
    "dotnet_interactive": {
     "language": "pwsh"
    }
   },
   "outputs": [
    {
     "name": "stdout",
     "output_type": "stream",
     "text": [
      "apple\r\n",
      "orange\r\n",
      "pear\r\n"
     ]
    }
   ],
   "source": [
    "# foreach shortform\n",
    "$array = \"apple\", \"orange\", \"pear\"\n",
    "$array | % { Write-Host $_ }"
   ]
  },
  {
   "cell_type": "code",
   "execution_count": null,
   "metadata": {
    "dotnet_interactive": {
     "language": "pwsh"
    }
   },
   "outputs": [
    {
     "name": "stdout",
     "output_type": "stream",
     "text": [
      "3.7\r\n"
     ]
    }
   ],
   "source": [
    "# regular function\n",
    "function Get-Add($a, $b) {\n",
    "    return ($a + $b)\n",
    "}\n",
    "Get-Add 1.3 2.4"
   ]
  },
  {
   "cell_type": "code",
   "execution_count": null,
   "metadata": {
    "dotnet_interactive": {
     "language": "pwsh"
    }
   },
   "outputs": [
    {
     "name": "stdout",
     "output_type": "stream",
     "text": [
      "2\r\n",
      "2\r\n"
     ]
    }
   ],
   "source": [
    "# advanced function\n",
    "function Get-Add {\n",
    "    param (\n",
    "        [Parameter(ValueFromPipeline)]\n",
    "        [int[]]$array\n",
    "    )\n",
    "    Write-Host $array\n",
    "    $sum = 0\n",
    "    foreach ($num in $array) {\n",
    "        $sum += $num\n",
    "    }\n",
    "    return $sum\n",
    "}\n",
    "1, 2 | Get-Add"
   ]
  },
  {
   "cell_type": "code",
   "execution_count": null,
   "metadata": {
    "dotnet_interactive": {
     "language": "pwsh"
    }
   },
   "outputs": [
    {
     "name": "stdout",
     "output_type": "stream",
     "text": [
      "begin called\r\n",
      "Verbose: Continue\r\n",
      "1 is processed\r\n",
      "2 is processed\r\n",
      "3 is processed\r\n",
      "4 is processed\r\n",
      "5 is processed\r\n",
      "end called\r\n",
      "sum: 15\r\n"
     ]
    }
   ],
   "source": [
    "# advanced function \n",
    "function Out-Data {\n",
    "    param (\n",
    "        [CmdletBinding()]\n",
    "        [Parameter(ValueFromPipeline)]\n",
    "        $data\n",
    "    )\n",
    "    begin {\n",
    "        if ($VerbosePreference -eq \"Continue\" ) {\n",
    "            Write-Host \"begin called\"\n",
    "        }\n",
    "        Write-Host \"Verbose: $VerbosePreference\"\n",
    "        $sum = 0\n",
    "    }\n",
    "    process {\n",
    "        Write-Host \"$_ is processed\"\n",
    "        $sum += $_\n",
    "    }\n",
    "    end {\n",
    "        Write-Host \"end called\"\n",
    "        Write-Host \"sum: $sum\"\n",
    "    }\n",
    "}\n",
    "1, 2, 3, 4, 5 | Out-Data -Verbose"
   ]
  },
  {
   "cell_type": "code",
   "execution_count": null,
   "metadata": {
    "dotnet_interactive": {
     "language": "pwsh"
    }
   },
   "outputs": [],
   "source": []
  }
 ],
 "metadata": {
  "kernelspec": {
   "display_name": ".NET (C#)",
   "language": "C#",
   "name": ".net-csharp"
  },
  "language_info": {
   "file_extension": ".cs",
   "mimetype": "text/x-csharp",
   "name": "C#",
   "pygments_lexer": "csharp",
   "version": "9.0"
  },
  "orig_nbformat": 4
 },
 "nbformat": 4,
 "nbformat_minor": 2
}
