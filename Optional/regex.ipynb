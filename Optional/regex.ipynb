{
 "cells": [
  {
   "cell_type": "code",
   "execution_count": null,
   "metadata": {
    "dotnet_interactive": {
     "language": "pwsh"
    }
   },
   "outputs": [
    {
     "name": "stdout",
     "output_type": "stream",
     "text": [
      "You entered a postal code!\r\n"
     ]
    }
   ],
   "source": [
    "$address = @\"\n",
    "123 somewhere dr.\n",
    "halifax, nova scotia\n",
    "h0h 0h0\n",
    "\"@\n",
    "\n",
    "# simple matching of a regular expression\n",
    "$regex = '\\w\\d\\w \\d\\w\\d'\n",
    "\n",
    "if ($address -match $regex) {\n",
    "    Write-Host \"You entered a postal code!\"\n",
    "}\n"
   ]
  },
  {
   "cell_type": "code",
   "execution_count": null,
   "metadata": {
    "dotnet_interactive": {
     "language": "pwsh"
    }
   },
   "outputs": [
    {
     "name": "stdout",
     "output_type": "stream",
     "text": [
      "True\r\n"
     ]
    }
   ],
   "source": [
    "$words = \"hat cat dog rat mat cow monkey that at\"\n",
    "$regex = '[a-z]at'\n",
    "\n",
    "$words -match $regex"
   ]
  },
  {
   "cell_type": "code",
   "execution_count": null,
   "metadata": {
    "dotnet_interactive": {
     "language": "pwsh"
    }
   },
   "outputs": [
    {
     "name": "stdout",
     "output_type": "stream",
     "text": [
      "    John Smith\r\n",
      "    Sally Jones\r\n",
      "    Tim Burton\r\n"
     ]
    }
   ],
   "source": [
    "# using groupings\n",
    "$names = @\"\n",
    "    Smith,John\n",
    "    Jones,Sally\n",
    "    Burton,Tim\n",
    "\"@\n",
    "$regex = '([a-z]+),([a-z]+)'\n",
    "$names -replace $regex, '$2 $1'"
   ]
  },
  {
   "cell_type": "code",
   "execution_count": null,
   "metadata": {
    "dotnet_interactive": {
     "language": "pwsh"
    }
   },
   "outputs": [
    {
     "name": "stdout",
     "output_type": "stream",
     "text": [
      "True\r\n",
      "hat\r\n"
     ]
    }
   ],
   "source": [
    "$words = \"hat cat dog rat mat cow monkey that at\"\n",
    "$regex = '[a-z]at'\n",
    "\n",
    "$words -match $regex\n",
    "$Matches[0]"
   ]
  },
  {
   "cell_type": "code",
   "execution_count": null,
   "metadata": {
    "dotnet_interactive": {
     "language": "pwsh"
    }
   },
   "outputs": [
    {
     "name": "stdout",
     "output_type": "stream",
     "text": [
      "hat\r\n",
      "cat\r\n",
      "rat\r\n"
     ]
    }
   ],
   "source": [
    "# .NET Regular Expressions\n",
    "$words = \"hat cat dog rat mat cow monkey that at\"\n",
    "$regex = '[a-z]at'\n",
    "\n",
    "$r = [regex]::new($regex)\n",
    "$r.Matches($words)[0].Value\n",
    "$r.Matches($words)[1].Value\n",
    "$r.Matches($words)[2].Value"
   ]
  },
  {
   "cell_type": "code",
   "execution_count": null,
   "metadata": {
    "dotnet_interactive": {
     "language": "pwsh"
    }
   },
   "outputs": [],
   "source": []
  }
 ],
 "metadata": {
  "kernelspec": {
   "display_name": ".NET (C#)",
   "language": "C#",
   "name": ".net-csharp"
  },
  "language_info": {
   "file_extension": ".cs",
   "mimetype": "text/x-csharp",
   "name": "C#",
   "pygments_lexer": "csharp",
   "version": "9.0"
  },
  "orig_nbformat": 4
 },
 "nbformat": 4,
 "nbformat_minor": 2
}
