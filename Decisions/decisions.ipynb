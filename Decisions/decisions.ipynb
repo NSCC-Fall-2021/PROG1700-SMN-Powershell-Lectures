{
 "cells": [
  {
   "cell_type": "code",
   "execution_count": null,
   "metadata": {
    "dotnet_interactive": {
     "language": "pwsh"
    }
   },
   "outputs": [
    {
     "name": "stdout",
     "output_type": "stream",
     "text": [
      "Hello?\r\n"
     ]
    }
   ],
   "source": [
    "Write-Host \"Hello?\""
   ]
  },
  {
   "cell_type": "code",
   "execution_count": null,
   "metadata": {
    "dotnet_interactive": {
     "language": "pwsh"
    }
   },
   "outputs": [
    {
     "name": "stdout",
     "output_type": "stream",
     "text": [
      "True\r\n",
      "False\r\n"
     ]
    }
   ],
   "source": [
    "# boolean variable\n",
    "$boolean = $true\n",
    "Write-Host $boolean\n",
    "$boolean = $false\n",
    "Write-Host $boolean"
   ]
  },
  {
   "cell_type": "code",
   "execution_count": null,
   "metadata": {
    "dotnet_interactive": {
     "language": "pwsh"
    }
   },
   "outputs": [
    {
     "name": "stdout",
     "output_type": "stream",
     "text": [
      "true\r\n",
      "1\r\n"
     ]
    }
   ],
   "source": [
    "# not boolean variables\n",
    "$notBoolean = \"true\"\n",
    "Write-Host $notBoolean\n",
    "$notBoolean = 1\n",
    "Write-Host $notBoolean"
   ]
  },
  {
   "cell_type": "code",
   "execution_count": null,
   "metadata": {
    "dotnet_interactive": {
     "language": "pwsh"
    }
   },
   "outputs": [
    {
     "name": "stdout",
     "output_type": "stream",
     "text": [
      "False\r\n",
      "True\r\n",
      "False\r\n",
      "True\r\n"
     ]
    }
   ],
   "source": [
    "$value = 3\n",
    "Write-Host ($value -eq 5)\n",
    "Write-Host ($value -lt 5)\n",
    "Write-Host ($value -gt 5)\n",
    "Write-Host ($value -ne 5)"
   ]
  },
  {
   "cell_type": "code",
   "execution_count": null,
   "metadata": {
    "dotnet_interactive": {
     "language": "pwsh"
    }
   },
   "outputs": [
    {
     "name": "stdout",
     "output_type": "stream",
     "text": [
      "True\r\n",
      "True\r\n",
      "False\r\n"
     ]
    }
   ],
   "source": [
    "$word = \"apple\"\n",
    "Write-Host ($word -eq \"apple\")\n",
    "Write-Host ($word -lt \"orange\")\n",
    "Write-Host ($word -gt \"orange\")\n"
   ]
  },
  {
   "cell_type": "code",
   "execution_count": null,
   "metadata": {
    "dotnet_interactive": {
     "language": "pwsh"
    }
   },
   "outputs": [
    {
     "name": "stdout",
     "output_type": "stream",
     "text": [
      "False\r\n",
      "1.4142135623730951\r\n"
     ]
    }
   ],
   "source": [
    "# caution using floating point comparisons\n",
    "$answer = 1.41414141414\n",
    "Write-Host ($answer -eq [Math]::Sqrt(2))\n",
    "Write-Host ([Math]::Sqrt(2))"
   ]
  },
  {
   "cell_type": "code",
   "execution_count": null,
   "metadata": {
    "dotnet_interactive": {
     "language": "pwsh"
    }
   },
   "outputs": [
    {
     "name": "stdout",
     "output_type": "stream",
     "text": [
      "True\r\n"
     ]
    }
   ],
   "source": [
    "# compare booleans\n",
    "$value = $true\n",
    "$value -eq $true"
   ]
  },
  {
   "cell_type": "code",
   "execution_count": null,
   "metadata": {
    "dotnet_interactive": {
     "language": "pwsh"
    }
   },
   "outputs": [
    {
     "name": "stdout",
     "output_type": "stream",
     "text": [
      "True\r\n"
     ]
    }
   ],
   "source": [
    "# compare variables\n",
    "$number1 = 123\n",
    "$number2 = 456\n",
    "$number1 -lt $number2"
   ]
  },
  {
   "cell_type": "code",
   "execution_count": null,
   "metadata": {
    "dotnet_interactive": {
     "language": "pwsh"
    }
   },
   "outputs": [
    {
     "name": "stdout",
     "output_type": "stream",
     "text": [
      "True\r\n"
     ]
    }
   ],
   "source": [
    "# compare variables of different data types\n",
    "$value1 = \"123\"\n",
    "$value2 = 123\n",
    "$value1 -eq $value2"
   ]
  },
  {
   "cell_type": "code",
   "execution_count": null,
   "metadata": {
    "dotnet_interactive": {
     "language": "pwsh"
    }
   },
   "outputs": [
    {
     "name": "stdout",
     "output_type": "stream",
     "text": [
      "5 < 10\r\n"
     ]
    }
   ],
   "source": [
    "# basic if statement (good formatting)\n",
    "$num = 5\n",
    "if ($num -lt 10) {\n",
    "    Write-Host \"5 < 10\"\n",
    "}"
   ]
  },
  {
   "cell_type": "code",
   "execution_count": null,
   "metadata": {
    "dotnet_interactive": {
     "language": "pwsh"
    }
   },
   "outputs": [
    {
     "name": "stdout",
     "output_type": "stream",
     "text": [
      "5 < 10\r\n"
     ]
    }
   ],
   "source": [
    "# hmm...ok\n",
    "$num = 5\n",
    "if ($num -lt 10) { Write-Host \"5 < 10\" }"
   ]
  },
  {
   "cell_type": "code",
   "execution_count": null,
   "metadata": {
    "dotnet_interactive": {
     "language": "pwsh"
    }
   },
   "outputs": [
    {
     "name": "stdout",
     "output_type": "stream",
     "text": [
      "5 < 10\r\n"
     ]
    }
   ],
   "source": [
    "# bad formatting example\n",
    "$num = 5\n",
    "if( $num -lt 10 ) \n",
    "{\n",
    "Write-Host \"5 < 10\" }"
   ]
  },
  {
   "cell_type": "code",
   "execution_count": null,
   "metadata": {
    "dotnet_interactive": {
     "language": "pwsh"
    }
   },
   "outputs": [
    {
     "name": "stdout",
     "output_type": "stream",
     "text": [
      "5 < 10\r\n"
     ]
    }
   ],
   "source": [
    "# do if false\n",
    "$num = 11\n",
    "if (-not ($num -lt 10)) {\n",
    "    Write-Host \"5 < 10\"\n",
    "}"
   ]
  },
  {
   "cell_type": "code",
   "execution_count": null,
   "metadata": {
    "dotnet_interactive": {
     "language": "pwsh"
    }
   },
   "outputs": [
    {
     "name": "stdout",
     "output_type": "stream",
     "text": [
      "num < 10\r\n"
     ]
    }
   ],
   "source": [
    "# do both true and false\n",
    "$num = 5\n",
    "if ($num -lt 10) {\n",
    "    Write-Host \"num < 10\"\n",
    "} else {\n",
    "    Write-Host \"num >= 10\"\n",
    "}"
   ]
  },
  {
   "cell_type": "code",
   "execution_count": null,
   "metadata": {
    "dotnet_interactive": {
     "language": "pwsh"
    }
   },
   "outputs": [
    {
     "name": "stdout",
     "output_type": "stream",
     "text": [
      "hello and <1000 and true\r\n"
     ]
    }
   ],
   "source": [
    "# compound if statement\n",
    "$var1 = \"hello\"\n",
    "$var2 = 999\n",
    "$var3 = $true\n",
    "if (($var1 -eq \"hello\") -and ($var2 -lt 1000) -and ($var3 -eq $true)) {\n",
    "    Write-Host \"hello and <1000 and true\"\n",
    "}"
   ]
  },
  {
   "cell_type": "code",
   "execution_count": null,
   "metadata": {
    "dotnet_interactive": {
     "language": "pwsh"
    }
   },
   "outputs": [
    {
     "name": "stdout",
     "output_type": "stream",
     "text": [
      "hello and <1000 and true\r\n"
     ]
    }
   ],
   "source": [
    "$var1 = \"hello\"\n",
    "$var2 = 999\n",
    "$var3 = $true\n",
    "if ($var1 -eq \"hello\" -and $var2 -lt 1000 -and $var3 -eq $true) {\n",
    "    Write-Host \"hello and <1000 and true\"\n",
    "}"
   ]
  },
  {
   "cell_type": "code",
   "execution_count": null,
   "metadata": {
    "dotnet_interactive": {
     "language": "pwsh"
    }
   },
   "outputs": [
    {
     "name": "stdout",
     "output_type": "stream",
     "text": [
      "hello or <1000\r\n"
     ]
    }
   ],
   "source": [
    "$var1 = \"hello\"\n",
    "$var2 = 1001\n",
    "$var3 = $true\n",
    "if (($var1 -eq \"hello\") -or ($var2 -lt 1000)) {\n",
    "    Write-Host \"hello or <1000\"\n",
    "}"
   ]
  },
  {
   "cell_type": "code",
   "execution_count": null,
   "metadata": {
    "dotnet_interactive": {
     "language": "pwsh"
    }
   },
   "outputs": [],
   "source": [
    "$var1 = \"hello\"\n",
    "$var2 = 999\n",
    "$var3 = $true\n",
    "if (($var1 -eq \"hello\" -or $var2 -lt 1000) -and ($var3 -eq $true)) {\n",
    "    Write-Host \"hello and <1000 and true\"\n",
    "}\n",
    "if (($var1 -eq \"hello\") -or ($var2 -lt 1000 -and $var3 -eq $true)) {\n",
    "    Write-Host \"hello and <1000 and true\"\n",
    "}"
   ]
  },
  {
   "cell_type": "code",
   "execution_count": null,
   "metadata": {
    "dotnet_interactive": {
     "language": "pwsh"
    }
   },
   "outputs": [
    {
     "name": "stdout",
     "output_type": "stream",
     "text": [
      "green\r\n"
     ]
    }
   ],
   "source": [
    "# program to mix two primary colours and output the resulting colour\n",
    "\n",
    "# ask the user to input two colours\n",
    "$colour1 = \"blue\"\n",
    "$colour2 = \"yellow\"\n",
    "\n",
    "# if the user enters red and blue, output violet\n",
    "if (($colour1 -eq \"red\") -and ($colour2 -eq \"blue\")) {\n",
    "    Write-Host \"violet\"\n",
    "}\n",
    "\n",
    "# if the user enters red and yellow, output orange\n",
    "if (($colour1 -eq \"red\") -and ($colour2 -eq \"yellow\")) {\n",
    "    Write-Host \"orange\"\n",
    "}\n",
    "\n",
    "# if the user enters blue and yellow, output green\n",
    "if (($colour1 -eq \"blue\") -and ($colour2 -eq \"yellow\")) {\n",
    "    Write-Host \"green\"\n",
    "}"
   ]
  },
  {
   "cell_type": "code",
   "execution_count": null,
   "metadata": {
    "dotnet_interactive": {
     "language": "pwsh"
    }
   },
   "outputs": [
    {
     "name": "stdout",
     "output_type": "stream",
     "text": [
      "VI\r\n"
     ]
    }
   ],
   "source": [
    "# create a program that asks the user for a decimal number and displays the roman numeral \n",
    "# equivalent\n",
    "# e.g. 1 = I, 2 = II, 3 = III, 4 = IV, 5 = V, 6 = VI, 7 = VII, 8 = VIII, 9 = IX, 10 = X\n",
    "\n",
    "# ask user for decimal number\n",
    "$number = 6\n",
    "\n",
    "# if the number is 1, output I\n",
    "if ($number -eq 1) {\n",
    "    Write-Host \"I\"\n",
    "}\n",
    "# if the number is 2, output II\n",
    "if ($number -eq 2) {\n",
    "    Write-Host \"II\"\n",
    "}\n",
    "# if the number is 3, output III\n",
    "if ($number -eq 3) {\n",
    "    Write-Host \"III\"\n",
    "}\n",
    "# if the number is 4, output IV\n",
    "if ($number -eq 4) {\n",
    "    Write-Host \"IV\"\n",
    "}\n",
    "# if the number is 5, output V\n",
    "if ($number -eq 5) {\n",
    "    Write-Host \"V\"\n",
    "}\n",
    "# if the number is 6, output VI\n",
    "if ($number -eq 6) {\n",
    "    Write-Host \"VI\"\n",
    "}\n",
    "# if the number is 7, output VII\n",
    "if ($number -eq 7) {\n",
    "    Write-Host \"VII\"\n",
    "}\n",
    "# if the number is 8, output VIII\n",
    "if ($number -eq 8) {\n",
    "    Write-Host \"VIII\"\n",
    "}\n",
    "# if the number is 9, output IX\n",
    "if ($number -eq 9) {\n",
    "    Write-Host \"IX\"\n",
    "}\n",
    "# if the number is 10, output X\n",
    "if ($number -eq 10) {\n",
    "    Write-Host \"X\"\n",
    "}\n"
   ]
  },
  {
   "cell_type": "code",
   "execution_count": null,
   "metadata": {
    "dotnet_interactive": {
     "language": "pwsh"
    }
   },
   "outputs": [],
   "source": []
  }
 ],
 "metadata": {
  "kernelspec": {
   "display_name": ".NET (C#)",
   "language": "C#",
   "name": ".net-csharp"
  },
  "language_info": {
   "file_extension": ".cs",
   "mimetype": "text/x-csharp",
   "name": "C#",
   "pygments_lexer": "csharp",
   "version": "9.0"
  },
  "orig_nbformat": 4
 },
 "nbformat": 4,
 "nbformat_minor": 2
}
